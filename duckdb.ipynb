{
 "cells": [
  {
   "cell_type": "code",
   "execution_count": null,
   "id": "cf1baffa",
   "metadata": {},
   "outputs": [
    {
     "data": {
      "text/plain": [
       "┌───────────┬──────────────┬───────────┬─────────────────┬───────────────┬─────────────┬──────────────┐\n",
       "│ test_name │ TEST_VERSION │ test_type │ test_start_date │ test_end_date │ TEST_STATUS │ TEST_METRICS │\n",
       "│  varchar  │    int64     │  varchar  │      date       │     date      │   varchar   │  varchar[]   │\n",
       "├───────────┴──────────────┴───────────┴─────────────────┴───────────────┴─────────────┴──────────────┤\n",
       "│                                               0 rows                                                │\n",
       "└─────────────────────────────────────────────────────────────────────────────────────────────────────┘"
      ]
     },
     "metadata": {},
     "output_type": "display_data"
    }
   ],
   "source": [
    "import duckdb\n",
    "\n",
    "sql='''\n",
    "show tables;\n",
    "\n",
    "'''\n",
    "\n",
    "with duckdb.connect('dbt_analytics/data/local.duckdb') as conn:\n",
    "    display(conn.sql(sql))\n"
   ]
  },
  {
   "cell_type": "markdown",
   "id": "13652681",
   "metadata": {},
   "source": []
  },
  {
   "cell_type": "code",
   "execution_count": null,
   "id": "8e3c260b",
   "metadata": {},
   "outputs": [],
   "source": []
  },
  {
   "cell_type": "markdown",
   "id": "83a3c55e",
   "metadata": {},
   "source": []
  }
 ],
 "metadata": {
  "kernelspec": {
   "display_name": ".venv",
   "language": "python",
   "name": "python3"
  },
  "language_info": {
   "codemirror_mode": {
    "name": "ipython",
    "version": 3
   },
   "file_extension": ".py",
   "mimetype": "text/x-python",
   "name": "python",
   "nbconvert_exporter": "python",
   "pygments_lexer": "ipython3",
   "version": "3.11.12"
  }
 },
 "nbformat": 4,
 "nbformat_minor": 5
}
