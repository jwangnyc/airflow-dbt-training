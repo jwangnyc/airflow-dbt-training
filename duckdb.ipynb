{
 "cells": [
  {
   "cell_type": "code",
   "execution_count": 3,
   "id": "cf1baffa",
   "metadata": {},
   "outputs": [
    {
     "data": {
      "text/plain": [
       "┌───────────┬──────────────┬───────────┬─────────────────┬───────────────┬─────────────┬──────────────┐\n",
       "│ test_name │ TEST_VERSION │ test_type │ test_start_date │ test_end_date │ TEST_STATUS │ TEST_METRICS │\n",
       "│  varchar  │    int64     │  varchar  │      date       │     date      │   varchar   │  varchar[]   │\n",
       "├───────────┴──────────────┴───────────┴─────────────────┴───────────────┴─────────────┴──────────────┤\n",
       "│                                               0 rows                                                │\n",
       "└─────────────────────────────────────────────────────────────────────────────────────────────────────┘"
      ]
     },
     "metadata": {},
     "output_type": "display_data"
    }
   ],
   "source": [
    "import duckdb\n",
    "\n",
    "sql='''\n",
    "SELECT\n",
    "    LOWER(abc.TEST_NAME) AS test_name,\n",
    "    abc.TEST_VERSION,\n",
    "    abc.TEST_TYPE AS test_type,\n",
    "    abc.VERSION_START_DATE AS test_start_date,\n",
    "    CASE\n",
    "        WHEN abc.VERSION_END_DATE IS NULL THEN '2024-01-01'\n",
    "        ELSE abc.VERSION_END_DATE\n",
    "    END AS test_end_date,\n",
    "    abc.STATUS AS TEST_STATUS,\n",
    "    abc.TEST_METRICS\n",
    "FROM history.ab_test_dimension abc -- Use the source defined in sources.yml\n",
    "    LEFT JOIN abtest.ab_test_dashboard abtd\n",
    "    ON LOWER(abc.TEST_NAME) = abtd.TEST_NAME\n",
    "    AND abc.TEST_VERSION = abtd.TEST_VERSION\n",
    "WHERE (\n",
    "        abc.STATUS = 'LIVE'\n",
    "        OR (\n",
    "            abc.STATUS = 'ENDED'\n",
    "            AND (\n",
    "                abtd.test_status = 'LIVE'\n",
    "                OR abtd.test_status IS NULL\n",
    "            )\n",
    "        )\n",
    "    ) -- include live tests or tests that have just ended today\n",
    "    AND NOT UPPER(abc.TEST_NAME) LIKE '%AA%' -- exclude AA tests\n",
    "    AND NOT abc.VARIATION LIKE '%100.00%' -- exclude tests that have been released (aka, variant ramped to 100%)\n",
    "    AND abc.TEST_METRICS IS NOT NULL -- exclude tests that don't have any metrics\n",
    "    AND abc.VERSION_END_DATE > '2024-01-01' -- exclude tests that ended over 2 weeks ago (for initial run)\n",
    "    AND (\n",
    "        abtd.END_DATE != '2024-01-01'\n",
    "        OR abtd.END_DATE IS NULL\n",
    "    ) -- exclude tests that have been processed today already\n",
    "    AND LOWER(abc.TEST_NAME) not in (\n",
    "        'proactive-order-monitoring-10kto15k'\n",
    "    ) -- exclude anchor list tests (need to find a better way to do this)\n",
    "ORDER BY test_start_date DESC -- start with the newest tests\n",
    ";\n",
    "\n",
    "'''\n",
    "\n",
    "with duckdb.connect('dbt_analytics/data/local.duckdb') as conn:\n",
    "    display(conn.sql(sql))\n"
   ]
  },
  {
   "cell_type": "markdown",
   "id": "13652681",
   "metadata": {},
   "source": []
  },
  {
   "cell_type": "code",
   "execution_count": null,
   "id": "8e3c260b",
   "metadata": {},
   "outputs": [],
   "source": []
  },
  {
   "cell_type": "markdown",
   "id": "83a3c55e",
   "metadata": {},
   "source": []
  }
 ],
 "metadata": {
  "kernelspec": {
   "display_name": ".venv",
   "language": "python",
   "name": "python3"
  },
  "language_info": {
   "codemirror_mode": {
    "name": "ipython",
    "version": 3
   },
   "file_extension": ".py",
   "mimetype": "text/x-python",
   "name": "python",
   "nbconvert_exporter": "python",
   "pygments_lexer": "ipython3",
   "version": "3.11.12"
  }
 },
 "nbformat": 4,
 "nbformat_minor": 5
}
